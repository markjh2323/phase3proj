{
 "cells": [
  {
   "cell_type": "code",
   "execution_count": 73,
   "metadata": {},
   "outputs": [],
   "source": [
    "import pandas as pd\n",
    "import numpy as np\n",
    "import matplotlib.pyplot as plt\n",
    "import seaborn as sns\n",
    "\n",
    "from sklearn.pipeline import Pipeline\n",
    "from sklearn.impute import SimpleImputer\n",
    "from sklearn.preprocessing import OneHotEncoder, StandardScaler, MaxAbsScaler\n",
    "from sklearn.compose import ColumnTransformer\n",
    "from sklearn.model_selection import train_test_split, GridSearchCV\n",
    "from sklearn.neighbors import KNeighborsClassifier\n",
    "from sklearn.metrics import plot_confusion_matrix, accuracy_score, plot_roc_curve, classification_report\n",
    "from sklearn.naive_bayes import GaussianNB\n",
    "from sklearn.tree import DecisionTreeClassifier, plot_tree\n",
    "from sklearn.ensemble import RandomForestClassifier\n"
   ]
  },
  {
   "cell_type": "code",
   "execution_count": 31,
   "metadata": {},
   "outputs": [
    {
     "data": {
      "text/html": [
       "<div>\n",
       "<style scoped>\n",
       "    .dataframe tbody tr th:only-of-type {\n",
       "        vertical-align: middle;\n",
       "    }\n",
       "\n",
       "    .dataframe tbody tr th {\n",
       "        vertical-align: top;\n",
       "    }\n",
       "\n",
       "    .dataframe thead th {\n",
       "        text-align: right;\n",
       "    }\n",
       "</style>\n",
       "<table border=\"1\" class=\"dataframe\">\n",
       "  <thead>\n",
       "    <tr style=\"text-align: right;\">\n",
       "      <th></th>\n",
       "      <th>school</th>\n",
       "      <th>sex</th>\n",
       "      <th>age</th>\n",
       "      <th>address</th>\n",
       "      <th>famsize</th>\n",
       "      <th>Pstatus</th>\n",
       "      <th>Medu</th>\n",
       "      <th>Fedu</th>\n",
       "      <th>reason</th>\n",
       "      <th>guardian</th>\n",
       "      <th>...</th>\n",
       "      <th>romantic</th>\n",
       "      <th>famrel</th>\n",
       "      <th>freetime</th>\n",
       "      <th>goout</th>\n",
       "      <th>Dalc</th>\n",
       "      <th>Walc</th>\n",
       "      <th>health</th>\n",
       "      <th>absences</th>\n",
       "      <th>G3</th>\n",
       "      <th>student_performance</th>\n",
       "    </tr>\n",
       "  </thead>\n",
       "  <tbody>\n",
       "    <tr>\n",
       "      <th>0</th>\n",
       "      <td>GP</td>\n",
       "      <td>F</td>\n",
       "      <td>18</td>\n",
       "      <td>U</td>\n",
       "      <td>GT3</td>\n",
       "      <td>A</td>\n",
       "      <td>4</td>\n",
       "      <td>4</td>\n",
       "      <td>course</td>\n",
       "      <td>mother</td>\n",
       "      <td>...</td>\n",
       "      <td>no</td>\n",
       "      <td>4</td>\n",
       "      <td>3</td>\n",
       "      <td>4</td>\n",
       "      <td>1</td>\n",
       "      <td>1</td>\n",
       "      <td>3</td>\n",
       "      <td>4</td>\n",
       "      <td>11</td>\n",
       "      <td>1</td>\n",
       "    </tr>\n",
       "    <tr>\n",
       "      <th>1</th>\n",
       "      <td>GP</td>\n",
       "      <td>F</td>\n",
       "      <td>17</td>\n",
       "      <td>U</td>\n",
       "      <td>GT3</td>\n",
       "      <td>T</td>\n",
       "      <td>1</td>\n",
       "      <td>1</td>\n",
       "      <td>course</td>\n",
       "      <td>father</td>\n",
       "      <td>...</td>\n",
       "      <td>no</td>\n",
       "      <td>5</td>\n",
       "      <td>3</td>\n",
       "      <td>3</td>\n",
       "      <td>1</td>\n",
       "      <td>1</td>\n",
       "      <td>3</td>\n",
       "      <td>2</td>\n",
       "      <td>11</td>\n",
       "      <td>1</td>\n",
       "    </tr>\n",
       "    <tr>\n",
       "      <th>2</th>\n",
       "      <td>GP</td>\n",
       "      <td>F</td>\n",
       "      <td>15</td>\n",
       "      <td>U</td>\n",
       "      <td>LE3</td>\n",
       "      <td>T</td>\n",
       "      <td>1</td>\n",
       "      <td>1</td>\n",
       "      <td>other</td>\n",
       "      <td>mother</td>\n",
       "      <td>...</td>\n",
       "      <td>no</td>\n",
       "      <td>4</td>\n",
       "      <td>3</td>\n",
       "      <td>2</td>\n",
       "      <td>2</td>\n",
       "      <td>3</td>\n",
       "      <td>3</td>\n",
       "      <td>6</td>\n",
       "      <td>12</td>\n",
       "      <td>1</td>\n",
       "    </tr>\n",
       "    <tr>\n",
       "      <th>3</th>\n",
       "      <td>GP</td>\n",
       "      <td>F</td>\n",
       "      <td>15</td>\n",
       "      <td>U</td>\n",
       "      <td>GT3</td>\n",
       "      <td>T</td>\n",
       "      <td>4</td>\n",
       "      <td>2</td>\n",
       "      <td>home</td>\n",
       "      <td>mother</td>\n",
       "      <td>...</td>\n",
       "      <td>yes</td>\n",
       "      <td>3</td>\n",
       "      <td>2</td>\n",
       "      <td>2</td>\n",
       "      <td>1</td>\n",
       "      <td>1</td>\n",
       "      <td>5</td>\n",
       "      <td>0</td>\n",
       "      <td>14</td>\n",
       "      <td>1</td>\n",
       "    </tr>\n",
       "    <tr>\n",
       "      <th>4</th>\n",
       "      <td>GP</td>\n",
       "      <td>F</td>\n",
       "      <td>16</td>\n",
       "      <td>U</td>\n",
       "      <td>GT3</td>\n",
       "      <td>T</td>\n",
       "      <td>3</td>\n",
       "      <td>3</td>\n",
       "      <td>home</td>\n",
       "      <td>father</td>\n",
       "      <td>...</td>\n",
       "      <td>no</td>\n",
       "      <td>4</td>\n",
       "      <td>3</td>\n",
       "      <td>2</td>\n",
       "      <td>1</td>\n",
       "      <td>2</td>\n",
       "      <td>5</td>\n",
       "      <td>0</td>\n",
       "      <td>13</td>\n",
       "      <td>1</td>\n",
       "    </tr>\n",
       "    <tr>\n",
       "      <th>...</th>\n",
       "      <td>...</td>\n",
       "      <td>...</td>\n",
       "      <td>...</td>\n",
       "      <td>...</td>\n",
       "      <td>...</td>\n",
       "      <td>...</td>\n",
       "      <td>...</td>\n",
       "      <td>...</td>\n",
       "      <td>...</td>\n",
       "      <td>...</td>\n",
       "      <td>...</td>\n",
       "      <td>...</td>\n",
       "      <td>...</td>\n",
       "      <td>...</td>\n",
       "      <td>...</td>\n",
       "      <td>...</td>\n",
       "      <td>...</td>\n",
       "      <td>...</td>\n",
       "      <td>...</td>\n",
       "      <td>...</td>\n",
       "      <td>...</td>\n",
       "    </tr>\n",
       "    <tr>\n",
       "      <th>644</th>\n",
       "      <td>MS</td>\n",
       "      <td>F</td>\n",
       "      <td>19</td>\n",
       "      <td>R</td>\n",
       "      <td>GT3</td>\n",
       "      <td>T</td>\n",
       "      <td>2</td>\n",
       "      <td>3</td>\n",
       "      <td>course</td>\n",
       "      <td>mother</td>\n",
       "      <td>...</td>\n",
       "      <td>no</td>\n",
       "      <td>5</td>\n",
       "      <td>4</td>\n",
       "      <td>2</td>\n",
       "      <td>1</td>\n",
       "      <td>2</td>\n",
       "      <td>5</td>\n",
       "      <td>4</td>\n",
       "      <td>10</td>\n",
       "      <td>1</td>\n",
       "    </tr>\n",
       "    <tr>\n",
       "      <th>645</th>\n",
       "      <td>MS</td>\n",
       "      <td>F</td>\n",
       "      <td>18</td>\n",
       "      <td>U</td>\n",
       "      <td>LE3</td>\n",
       "      <td>T</td>\n",
       "      <td>3</td>\n",
       "      <td>1</td>\n",
       "      <td>course</td>\n",
       "      <td>mother</td>\n",
       "      <td>...</td>\n",
       "      <td>no</td>\n",
       "      <td>4</td>\n",
       "      <td>3</td>\n",
       "      <td>4</td>\n",
       "      <td>1</td>\n",
       "      <td>1</td>\n",
       "      <td>1</td>\n",
       "      <td>4</td>\n",
       "      <td>16</td>\n",
       "      <td>2</td>\n",
       "    </tr>\n",
       "    <tr>\n",
       "      <th>646</th>\n",
       "      <td>MS</td>\n",
       "      <td>F</td>\n",
       "      <td>18</td>\n",
       "      <td>U</td>\n",
       "      <td>GT3</td>\n",
       "      <td>T</td>\n",
       "      <td>1</td>\n",
       "      <td>1</td>\n",
       "      <td>course</td>\n",
       "      <td>mother</td>\n",
       "      <td>...</td>\n",
       "      <td>no</td>\n",
       "      <td>1</td>\n",
       "      <td>1</td>\n",
       "      <td>1</td>\n",
       "      <td>1</td>\n",
       "      <td>1</td>\n",
       "      <td>5</td>\n",
       "      <td>6</td>\n",
       "      <td>9</td>\n",
       "      <td>0</td>\n",
       "    </tr>\n",
       "    <tr>\n",
       "      <th>647</th>\n",
       "      <td>MS</td>\n",
       "      <td>M</td>\n",
       "      <td>17</td>\n",
       "      <td>U</td>\n",
       "      <td>LE3</td>\n",
       "      <td>T</td>\n",
       "      <td>3</td>\n",
       "      <td>1</td>\n",
       "      <td>course</td>\n",
       "      <td>mother</td>\n",
       "      <td>...</td>\n",
       "      <td>no</td>\n",
       "      <td>2</td>\n",
       "      <td>4</td>\n",
       "      <td>5</td>\n",
       "      <td>3</td>\n",
       "      <td>4</td>\n",
       "      <td>2</td>\n",
       "      <td>6</td>\n",
       "      <td>10</td>\n",
       "      <td>1</td>\n",
       "    </tr>\n",
       "    <tr>\n",
       "      <th>648</th>\n",
       "      <td>MS</td>\n",
       "      <td>M</td>\n",
       "      <td>18</td>\n",
       "      <td>R</td>\n",
       "      <td>LE3</td>\n",
       "      <td>T</td>\n",
       "      <td>3</td>\n",
       "      <td>2</td>\n",
       "      <td>course</td>\n",
       "      <td>mother</td>\n",
       "      <td>...</td>\n",
       "      <td>no</td>\n",
       "      <td>4</td>\n",
       "      <td>4</td>\n",
       "      <td>1</td>\n",
       "      <td>3</td>\n",
       "      <td>4</td>\n",
       "      <td>5</td>\n",
       "      <td>4</td>\n",
       "      <td>11</td>\n",
       "      <td>1</td>\n",
       "    </tr>\n",
       "  </tbody>\n",
       "</table>\n",
       "<p>649 rows × 30 columns</p>\n",
       "</div>"
      ],
      "text/plain": [
       "    school sex  age address famsize Pstatus  Medu  Fedu  reason guardian  ...  \\\n",
       "0       GP   F   18       U     GT3       A     4     4  course   mother  ...   \n",
       "1       GP   F   17       U     GT3       T     1     1  course   father  ...   \n",
       "2       GP   F   15       U     LE3       T     1     1   other   mother  ...   \n",
       "3       GP   F   15       U     GT3       T     4     2    home   mother  ...   \n",
       "4       GP   F   16       U     GT3       T     3     3    home   father  ...   \n",
       "..     ...  ..  ...     ...     ...     ...   ...   ...     ...      ...  ...   \n",
       "644     MS   F   19       R     GT3       T     2     3  course   mother  ...   \n",
       "645     MS   F   18       U     LE3       T     3     1  course   mother  ...   \n",
       "646     MS   F   18       U     GT3       T     1     1  course   mother  ...   \n",
       "647     MS   M   17       U     LE3       T     3     1  course   mother  ...   \n",
       "648     MS   M   18       R     LE3       T     3     2  course   mother  ...   \n",
       "\n",
       "     romantic  famrel  freetime goout Dalc Walc health absences  G3  \\\n",
       "0          no       4         3     4    1    1      3        4  11   \n",
       "1          no       5         3     3    1    1      3        2  11   \n",
       "2          no       4         3     2    2    3      3        6  12   \n",
       "3         yes       3         2     2    1    1      5        0  14   \n",
       "4          no       4         3     2    1    2      5        0  13   \n",
       "..        ...     ...       ...   ...  ...  ...    ...      ...  ..   \n",
       "644        no       5         4     2    1    2      5        4  10   \n",
       "645        no       4         3     4    1    1      1        4  16   \n",
       "646        no       1         1     1    1    1      5        6   9   \n",
       "647        no       2         4     5    3    4      2        6  10   \n",
       "648        no       4         4     1    3    4      5        4  11   \n",
       "\n",
       "    student_performance  \n",
       "0                     1  \n",
       "1                     1  \n",
       "2                     1  \n",
       "3                     1  \n",
       "4                     1  \n",
       "..                  ...  \n",
       "644                   1  \n",
       "645                   2  \n",
       "646                   0  \n",
       "647                   1  \n",
       "648                   1  \n",
       "\n",
       "[649 rows x 30 columns]"
      ]
     },
     "execution_count": 31,
     "metadata": {},
     "output_type": "execute_result"
    }
   ],
   "source": [
    "df_por = pd.read_pickle('./brazilstudents.pkl')\n",
    "df_por"
   ]
  },
  {
   "cell_type": "code",
   "execution_count": 32,
   "metadata": {},
   "outputs": [],
   "source": [
    "df_por.drop(columns = ['G3'], inplace = True)"
   ]
  },
  {
   "cell_type": "code",
   "execution_count": 33,
   "metadata": {},
   "outputs": [
    {
     "data": {
      "text/plain": [
       "Index(['school', 'sex', 'age', 'address', 'famsize', 'Pstatus', 'Medu', 'Fedu',\n",
       "       'reason', 'guardian', 'traveltime', 'studytime', 'failures',\n",
       "       'schoolsup', 'famsup', 'paid', 'activities', 'nursery', 'higher',\n",
       "       'internet', 'romantic', 'famrel', 'freetime', 'goout', 'Dalc', 'Walc',\n",
       "       'health', 'absences', 'student_performance'],\n",
       "      dtype='object')"
      ]
     },
     "execution_count": 33,
     "metadata": {},
     "output_type": "execute_result"
    }
   ],
   "source": [
    "df_por.columns"
   ]
  },
  {
   "cell_type": "code",
   "execution_count": 34,
   "metadata": {},
   "outputs": [],
   "source": [
    "num_cats = ['age', 'absences', 'failures' ] #Removed G3 for pipeline prediction reasons\n",
    "nominal_cats = ['school', 'sex', 'address', 'Pstatus', 'reason', 'guardian', 'schoolsup', 'famsup', 'paid', 'activities', 'nursery', 'higher', 'internet', 'romantic', ]\n",
    "ordinal_cats = ['famrel', 'freetime', 'goout', 'Dalc', 'Walc', 'health', 'Medu', 'Fedu', 'studytime', 'traveltime']"
   ]
  },
  {
   "cell_type": "code",
   "execution_count": 35,
   "metadata": {},
   "outputs": [],
   "source": [
    "numeric_pipeline = Pipeline([('numimputer', SimpleImputer(strategy= 'mean')), ('numnorm', StandardScaler())])\n",
    "\n",
    "ordinal_pipeline = Pipeline([\n",
    "    ('ordimputer', SimpleImputer(strategy = 'most_frequent')), \n",
    "    ('ordnorm', StandardScaler())\n",
    "    ])\n",
    "\n",
    "nominal_pipeline = Pipeline([\n",
    "    ('onehotimputer', SimpleImputer(strategy = 'most_frequent')),\n",
    "    ('onehotenc', OneHotEncoder(sparse = False, drop = 'first')), \n",
    "    ('onehotnorm', MaxAbsScaler())\n",
    "])"
   ]
  },
  {
   "cell_type": "code",
   "execution_count": 36,
   "metadata": {},
   "outputs": [],
   "source": [
    "ct = ColumnTransformer(\n",
    "    [(\"ordinal_pipe\", ordinal_pipeline, ordinal_cats),\n",
    "    (\"nominal_pipe\", nominal_pipeline, nominal_cats),\n",
    "    (\"numeric_pipe\", numeric_pipeline, num_cats)]\n",
    ")"
   ]
  },
  {
   "cell_type": "code",
   "execution_count": 37,
   "metadata": {},
   "outputs": [
    {
     "data": {
      "text/plain": [
       "ColumnTransformer(transformers=[('ordinal_pipe',\n",
       "                                 Pipeline(steps=[('ordimputer',\n",
       "                                                  SimpleImputer(strategy='most_frequent')),\n",
       "                                                 ('ordnorm',\n",
       "                                                  StandardScaler())]),\n",
       "                                 ['famrel', 'freetime', 'goout', 'Dalc', 'Walc',\n",
       "                                  'health', 'Medu', 'Fedu', 'studytime',\n",
       "                                  'traveltime']),\n",
       "                                ('nominal_pipe',\n",
       "                                 Pipeline(steps=[('onehotimputer',\n",
       "                                                  SimpleImputer(strategy='most_frequent')),\n",
       "                                                 ('onehotenc',\n",
       "                                                  OneHotEncoder(drop='first',\n",
       "                                                                sparse=False)),\n",
       "                                                 ('onehotnorm',\n",
       "                                                  MaxAbsScaler())]),\n",
       "                                 ['school', 'sex', 'address', 'Pstatus',\n",
       "                                  'reason', 'guardian', 'schoolsup', 'famsup',\n",
       "                                  'paid', 'activities', 'nursery', 'higher',\n",
       "                                  'internet', 'romantic']),\n",
       "                                ('numeric_pipe',\n",
       "                                 Pipeline(steps=[('numimputer',\n",
       "                                                  SimpleImputer()),\n",
       "                                                 ('numnorm',\n",
       "                                                  StandardScaler())]),\n",
       "                                 ['age', 'absences', 'failures'])])"
      ]
     },
     "execution_count": 37,
     "metadata": {},
     "output_type": "execute_result"
    }
   ],
   "source": [
    "ct"
   ]
  },
  {
   "cell_type": "code",
   "execution_count": 38,
   "metadata": {},
   "outputs": [],
   "source": [
    "k_pipe = Pipeline([\n",
    "    ('preprocessing', ct),\n",
    "    ('model', KNeighborsClassifier())\n",
    "])\n"
   ]
  },
  {
   "cell_type": "code",
   "execution_count": 39,
   "metadata": {},
   "outputs": [],
   "source": [
    "X = df_por.drop(columns = ['student_performance'])\n",
    "y = df_por['student_performance']\n",
    "\n",
    "X_train, X_test, y_train, y_test = train_test_split(X, y, test_size= 0.2, random_state = 305, stratify = y)"
   ]
  },
  {
   "cell_type": "code",
   "execution_count": 40,
   "metadata": {},
   "outputs": [
    {
     "data": {
      "text/plain": [
       "Pipeline(steps=[('preprocessing',\n",
       "                 ColumnTransformer(transformers=[('ordinal_pipe',\n",
       "                                                  Pipeline(steps=[('ordimputer',\n",
       "                                                                   SimpleImputer(strategy='most_frequent')),\n",
       "                                                                  ('ordnorm',\n",
       "                                                                   StandardScaler())]),\n",
       "                                                  ['famrel', 'freetime',\n",
       "                                                   'goout', 'Dalc', 'Walc',\n",
       "                                                   'health', 'Medu', 'Fedu',\n",
       "                                                   'studytime', 'traveltime']),\n",
       "                                                 ('nominal_pipe',\n",
       "                                                  Pipeline(steps=[('onehotimputer',\n",
       "                                                                   SimpleImputer(strategy='m...\n",
       "                                                                   OneHotEncoder(drop='first',\n",
       "                                                                                 sparse=False)),\n",
       "                                                                  ('onehotnorm',\n",
       "                                                                   MaxAbsScaler())]),\n",
       "                                                  ['school', 'sex', 'address',\n",
       "                                                   'Pstatus', 'reason',\n",
       "                                                   'guardian', 'schoolsup',\n",
       "                                                   'famsup', 'paid',\n",
       "                                                   'activities', 'nursery',\n",
       "                                                   'higher', 'internet',\n",
       "                                                   'romantic']),\n",
       "                                                 ('numeric_pipe',\n",
       "                                                  Pipeline(steps=[('numimputer',\n",
       "                                                                   SimpleImputer()),\n",
       "                                                                  ('numnorm',\n",
       "                                                                   StandardScaler())]),\n",
       "                                                  ['age', 'absences',\n",
       "                                                   'failures'])])),\n",
       "                ('model', KNeighborsClassifier())])"
      ]
     },
     "execution_count": 40,
     "metadata": {},
     "output_type": "execute_result"
    }
   ],
   "source": [
    "k_pipe.fit(X_train, y_train)"
   ]
  },
  {
   "cell_type": "code",
   "execution_count": 75,
   "metadata": {},
   "outputs": [],
   "source": [
    "y_pred = k_pipe.predict(X_test)"
   ]
  },
  {
   "cell_type": "code",
   "execution_count": 76,
   "metadata": {},
   "outputs": [
    {
     "name": "stderr",
     "output_type": "stream",
     "text": [
      "/Users/markhurtado/opt/anaconda3/envs/learn-env/lib/python3.8/site-packages/sklearn/utils/deprecation.py:87: FutureWarning: Function plot_confusion_matrix is deprecated; Function `plot_confusion_matrix` is deprecated in 1.0 and will be removed in 1.2. Use one of the class methods: ConfusionMatrixDisplay.from_predictions or ConfusionMatrixDisplay.from_estimator.\n",
      "  warnings.warn(msg, category=FutureWarning)\n"
     ]
    },
    {
     "data": {
      "text/plain": [
       "<sklearn.metrics._plot.confusion_matrix.ConfusionMatrixDisplay at 0x7fadb18f5460>"
      ]
     },
     "execution_count": 76,
     "metadata": {},
     "output_type": "execute_result"
    },
    {
     "data": {
      "image/png": "[encoded data removed]",
      "text/plain": [
       "<Figure size 432x288 with 2 Axes>"
      ]
     },
     "metadata": {
      "needs_background": "light"
     },
     "output_type": "display_data"
    }
   ],
   "source": [
    "plot_confusion_matrix(k_pipe, X_train, y_train)"
   ]
  },
  {
   "cell_type": "code",
   "execution_count": 81,
   "metadata": {},
   "outputs": [
    {
     "name": "stdout",
     "output_type": "stream",
     "text": [
      "              precision    recall  f1-score   support\n",
      "\n",
      "           0       0.56      0.25      0.34        20\n",
      "           1       0.67      0.86      0.75        84\n",
      "           2       0.38      0.19      0.26        26\n",
      "\n",
      "    accuracy                           0.63       130\n",
      "   macro avg       0.54      0.43      0.45       130\n",
      "weighted avg       0.59      0.63      0.59       130\n",
      "\n"
     ]
    }
   ],
   "source": [
    "print(classification_report(y_test, y_pred))"
   ]
  },
  {
   "cell_type": "code",
   "execution_count": 82,
   "metadata": {},
   "outputs": [],
   "source": [
    "k_pipe_grid = {'preprocessing__numeric_pipe__numimputer__strategy': ['mean', 'median'], \n",
    "                'model__n_neighbors': np.arange(3, 25, 2),\n",
    "                'model__p': [1, 2, 3, 4]\n",
    "                }"
   ]
  },
  {
   "cell_type": "code",
   "execution_count": 83,
   "metadata": {},
   "outputs": [],
   "source": [
    "gridsearch = GridSearchCV(estimator = k_pipe, param_grid= k_pipe_grid, scoring= 'accuracy')"
   ]
  },
  {
   "cell_type": "code",
   "execution_count": 84,
   "metadata": {},
   "outputs": [
    {
     "data": {
      "text/plain": [
       "GridSearchCV(estimator=Pipeline(steps=[('preprocessing',\n",
       "                                        ColumnTransformer(transformers=[('ordinal_pipe',\n",
       "                                                                         Pipeline(steps=[('ordimputer',\n",
       "                                                                                          SimpleImputer(strategy='most_frequent')),\n",
       "                                                                                         ('ordnorm',\n",
       "                                                                                          StandardScaler())]),\n",
       "                                                                         ['famrel',\n",
       "                                                                          'freetime',\n",
       "                                                                          'goout',\n",
       "                                                                          'Dalc',\n",
       "                                                                          'Walc',\n",
       "                                                                          'health',\n",
       "                                                                          'Medu',\n",
       "                                                                          'Fedu',\n",
       "                                                                          'studytime',\n",
       "                                                                          'traveltime']),\n",
       "                                                                        ('nominal_pipe',\n",
       "                                                                         Pipeline(steps=[('onehotimputer',\n",
       "                                                                                          Si...\n",
       "                                                                          'romantic']),\n",
       "                                                                        ('numeric_pipe',\n",
       "                                                                         Pipeline(steps=[('numimputer',\n",
       "                                                                                          SimpleImputer()),\n",
       "                                                                                         ('numnorm',\n",
       "                                                                                          StandardScaler())]),\n",
       "                                                                         ['age',\n",
       "                                                                          'absences',\n",
       "                                                                          'failures'])])),\n",
       "                                       ('model', KNeighborsClassifier())]),\n",
       "             param_grid={'model__n_neighbors': array([ 3,  5,  7,  9, 11, 13, 15, 17, 19, 21, 23]),\n",
       "                         'model__p': [1, 2, 3, 4],\n",
       "                         'preprocessing__numeric_pipe__numimputer__strategy': ['mean',\n",
       "                                                                               'median']},\n",
       "             scoring='accuracy')"
      ]
     },
     "execution_count": 84,
     "metadata": {},
     "output_type": "execute_result"
    }
   ],
   "source": [
    "gridsearch.fit(X_train, y_train)"
   ]
  },
  {
   "cell_type": "code",
   "execution_count": 85,
   "metadata": {},
   "outputs": [],
   "source": [
    "best_model = gridsearch.best_estimator_"
   ]
  },
  {
   "cell_type": "code",
   "execution_count": 86,
   "metadata": {},
   "outputs": [
    {
     "data": {
      "text/plain": [
       "Pipeline(steps=[('preprocessing',\n",
       "                 ColumnTransformer(transformers=[('ordinal_pipe',\n",
       "                                                  Pipeline(steps=[('ordimputer',\n",
       "                                                                   SimpleImputer(strategy='most_frequent')),\n",
       "                                                                  ('ordnorm',\n",
       "                                                                   StandardScaler())]),\n",
       "                                                  ['famrel', 'freetime',\n",
       "                                                   'goout', 'Dalc', 'Walc',\n",
       "                                                   'health', 'Medu', 'Fedu',\n",
       "                                                   'studytime', 'traveltime']),\n",
       "                                                 ('nominal_pipe',\n",
       "                                                  Pipeline(steps=[('onehotimputer',\n",
       "                                                                   SimpleImputer(strategy='m...\n",
       "                                                                                 sparse=False)),\n",
       "                                                                  ('onehotnorm',\n",
       "                                                                   MaxAbsScaler())]),\n",
       "                                                  ['school', 'sex', 'address',\n",
       "                                                   'Pstatus', 'reason',\n",
       "                                                   'guardian', 'schoolsup',\n",
       "                                                   'famsup', 'paid',\n",
       "                                                   'activities', 'nursery',\n",
       "                                                   'higher', 'internet',\n",
       "                                                   'romantic']),\n",
       "                                                 ('numeric_pipe',\n",
       "                                                  Pipeline(steps=[('numimputer',\n",
       "                                                                   SimpleImputer()),\n",
       "                                                                  ('numnorm',\n",
       "                                                                   StandardScaler())]),\n",
       "                                                  ['age', 'absences',\n",
       "                                                   'failures'])])),\n",
       "                ('model', KNeighborsClassifier(n_neighbors=17))])"
      ]
     },
     "execution_count": 86,
     "metadata": {},
     "output_type": "execute_result"
    }
   ],
   "source": [
    "best_model.fit(X_train, y_train)"
   ]
  },
  {
   "cell_type": "code",
   "execution_count": 49,
   "metadata": {},
   "outputs": [],
   "source": [
    "y_pred_k = best_model.predict(X_test)"
   ]
  },
  {
   "cell_type": "code",
   "execution_count": 87,
   "metadata": {},
   "outputs": [
    {
     "name": "stdout",
     "output_type": "stream",
     "text": [
      "              precision    recall  f1-score   support\n",
      "\n",
      "           0       0.50      0.10      0.17        20\n",
      "           1       0.65      0.94      0.77        84\n",
      "           2       0.40      0.08      0.13        26\n",
      "\n",
      "    accuracy                           0.64       130\n",
      "   macro avg       0.52      0.37      0.36       130\n",
      "weighted avg       0.58      0.64      0.55       130\n",
      "\n"
     ]
    }
   ],
   "source": [
    "print(classification_report(y_test, y_pred_k))"
   ]
  },
  {
   "cell_type": "code",
   "execution_count": 70,
   "metadata": {},
   "outputs": [
    {
     "name": "stderr",
     "output_type": "stream",
     "text": [
      "/Users/markhurtado/opt/anaconda3/envs/learn-env/lib/python3.8/site-packages/sklearn/utils/deprecation.py:87: FutureWarning: Function plot_confusion_matrix is deprecated; Function `plot_confusion_matrix` is deprecated in 1.0 and will be removed in 1.2. Use one of the class methods: ConfusionMatrixDisplay.from_predictions or ConfusionMatrixDisplay.from_estimator.\n",
      "  warnings.warn(msg, category=FutureWarning)\n"
     ]
    },
    {
     "data": {
      "text/plain": [
       "<sklearn.metrics._plot.confusion_matrix.ConfusionMatrixDisplay at 0x7fad904ed580>"
      ]
     },
     "execution_count": 70,
     "metadata": {},
     "output_type": "execute_result"
    },
    {
     "data": {
      "image/png": "[encoded data removed]",
      "text/plain": [
       "<Figure size 432x288 with 2 Axes>"
      ]
     },
     "metadata": {
      "needs_background": "light"
     },
     "output_type": "display_data"
    }
   ],
   "source": [
    "plot_confusion_matrix(best_model,\n",
    "                      X_train,\n",
    "                      y_train)"
   ]
  },
  {
   "cell_type": "code",
   "execution_count": 51,
   "metadata": {},
   "outputs": [],
   "source": [
    "naive_bayes_pipe = Pipeline([\n",
    "    ('preprocessing', ct),\n",
    "    ('model', GaussianNB())\n",
    "])\n"
   ]
  },
  {
   "cell_type": "code",
   "execution_count": 52,
   "metadata": {},
   "outputs": [
    {
     "data": {
      "text/plain": [
       "Pipeline(steps=[('preprocessing',\n",
       "                 ColumnTransformer(transformers=[('ordinal_pipe',\n",
       "                                                  Pipeline(steps=[('ordimputer',\n",
       "                                                                   SimpleImputer(strategy='most_frequent')),\n",
       "                                                                  ('ordnorm',\n",
       "                                                                   StandardScaler())]),\n",
       "                                                  ['famrel', 'freetime',\n",
       "                                                   'goout', 'Dalc', 'Walc',\n",
       "                                                   'health', 'Medu', 'Fedu',\n",
       "                                                   'studytime', 'traveltime']),\n",
       "                                                 ('nominal_pipe',\n",
       "                                                  Pipeline(steps=[('onehotimputer',\n",
       "                                                                   SimpleImputer(strategy='m...\n",
       "                                                                   OneHotEncoder(drop='first',\n",
       "                                                                                 sparse=False)),\n",
       "                                                                  ('onehotnorm',\n",
       "                                                                   MaxAbsScaler())]),\n",
       "                                                  ['school', 'sex', 'address',\n",
       "                                                   'Pstatus', 'reason',\n",
       "                                                   'guardian', 'schoolsup',\n",
       "                                                   'famsup', 'paid',\n",
       "                                                   'activities', 'nursery',\n",
       "                                                   'higher', 'internet',\n",
       "                                                   'romantic']),\n",
       "                                                 ('numeric_pipe',\n",
       "                                                  Pipeline(steps=[('numimputer',\n",
       "                                                                   SimpleImputer()),\n",
       "                                                                  ('numnorm',\n",
       "                                                                   StandardScaler())]),\n",
       "                                                  ['age', 'absences',\n",
       "                                                   'failures'])])),\n",
       "                ('model', GaussianNB())])"
      ]
     },
     "execution_count": 52,
     "metadata": {},
     "output_type": "execute_result"
    }
   ],
   "source": [
    "naive_bayes_pipe.fit(X_train, y_train)"
   ]
  },
  {
   "cell_type": "code",
   "execution_count": 53,
   "metadata": {},
   "outputs": [],
   "source": [
    "y_pred_NB = naive_bayes_pipe.predict(X_test)"
   ]
  },
  {
   "cell_type": "code",
   "execution_count": 54,
   "metadata": {},
   "outputs": [
    {
     "name": "stderr",
     "output_type": "stream",
     "text": [
      "/Users/markhurtado/opt/anaconda3/envs/learn-env/lib/python3.8/site-packages/sklearn/utils/deprecation.py:87: FutureWarning: Function plot_confusion_matrix is deprecated; Function `plot_confusion_matrix` is deprecated in 1.0 and will be removed in 1.2. Use one of the class methods: ConfusionMatrixDisplay.from_predictions or ConfusionMatrixDisplay.from_estimator.\n",
      "  warnings.warn(msg, category=FutureWarning)\n"
     ]
    },
    {
     "data": {
      "text/plain": [
       "<sklearn.metrics._plot.confusion_matrix.ConfusionMatrixDisplay at 0x7fadb16b5220>"
      ]
     },
     "execution_count": 54,
     "metadata": {},
     "output_type": "execute_result"
    },
    {
     "data": {
      "image/png": "[encoded data removed]",
      "text/plain": [
       "<Figure size 432x288 with 2 Axes>"
      ]
     },
     "metadata": {
      "needs_background": "light"
     },
     "output_type": "display_data"
    }
   ],
   "source": [
    "plot_confusion_matrix(naive_bayes_pipe, X_test, y_test)"
   ]
  },
  {
   "cell_type": "code",
   "execution_count": 55,
   "metadata": {},
   "outputs": [],
   "source": [
    "dtree_pipe = Pipeline([\n",
    "    ('preprocessing', ct),\n",
    "    ('model', DecisionTreeClassifier())\n",
    "])\n"
   ]
  },
  {
   "cell_type": "code",
   "execution_count": 56,
   "metadata": {},
   "outputs": [
    {
     "data": {
      "text/plain": [
       "Pipeline(steps=[('preprocessing',\n",
       "                 ColumnTransformer(transformers=[('ordinal_pipe',\n",
       "                                                  Pipeline(steps=[('ordimputer',\n",
       "                                                                   SimpleImputer(strategy='most_frequent')),\n",
       "                                                                  ('ordnorm',\n",
       "                                                                   StandardScaler())]),\n",
       "                                                  ['famrel', 'freetime',\n",
       "                                                   'goout', 'Dalc', 'Walc',\n",
       "                                                   'health', 'Medu', 'Fedu',\n",
       "                                                   'studytime', 'traveltime']),\n",
       "                                                 ('nominal_pipe',\n",
       "                                                  Pipeline(steps=[('onehotimputer',\n",
       "                                                                   SimpleImputer(strategy='m...\n",
       "                                                                                 sparse=False)),\n",
       "                                                                  ('onehotnorm',\n",
       "                                                                   MaxAbsScaler())]),\n",
       "                                                  ['school', 'sex', 'address',\n",
       "                                                   'Pstatus', 'reason',\n",
       "                                                   'guardian', 'schoolsup',\n",
       "                                                   'famsup', 'paid',\n",
       "                                                   'activities', 'nursery',\n",
       "                                                   'higher', 'internet',\n",
       "                                                   'romantic']),\n",
       "                                                 ('numeric_pipe',\n",
       "                                                  Pipeline(steps=[('numimputer',\n",
       "                                                                   SimpleImputer()),\n",
       "                                                                  ('numnorm',\n",
       "                                                                   StandardScaler())]),\n",
       "                                                  ['age', 'absences',\n",
       "                                                   'failures'])])),\n",
       "                ('model', DecisionTreeClassifier())])"
      ]
     },
     "execution_count": 56,
     "metadata": {},
     "output_type": "execute_result"
    }
   ],
   "source": [
    "dtree_pipe.fit(X_train, y_train)"
   ]
  },
  {
   "cell_type": "code",
   "execution_count": 57,
   "metadata": {},
   "outputs": [],
   "source": [
    "y_pred_dtree = dtree_pipe.predict(X_test)"
   ]
  },
  {
   "cell_type": "code",
   "execution_count": 58,
   "metadata": {},
   "outputs": [
    {
     "name": "stderr",
     "output_type": "stream",
     "text": [
      "/Users/markhurtado/opt/anaconda3/envs/learn-env/lib/python3.8/site-packages/sklearn/utils/deprecation.py:87: FutureWarning: Function plot_confusion_matrix is deprecated; Function `plot_confusion_matrix` is deprecated in 1.0 and will be removed in 1.2. Use one of the class methods: ConfusionMatrixDisplay.from_predictions or ConfusionMatrixDisplay.from_estimator.\n",
      "  warnings.warn(msg, category=FutureWarning)\n"
     ]
    },
    {
     "data": {
      "text/plain": [
       "<sklearn.metrics._plot.confusion_matrix.ConfusionMatrixDisplay at 0x7fadc4514c10>"
      ]
     },
     "execution_count": 58,
     "metadata": {},
     "output_type": "execute_result"
    },
    {
     "data": {
      "image/png": "[encoded data removed]",
      "text/plain": [
       "<Figure size 432x288 with 2 Axes>"
      ]
     },
     "metadata": {
      "needs_background": "light"
     },
     "output_type": "display_data"
    }
   ],
   "source": [
    "plot_confusion_matrix(dtree_pipe, X_test, y_test)"
   ]
  },
  {
   "cell_type": "code",
   "execution_count": 59,
   "metadata": {},
   "outputs": [],
   "source": [
    "dtree_pipe_grid = {'preprocessing__numeric_pipe__numimputer__strategy': ['mean', 'median'], \n",
    "                'model__max_depth': np.arange(3, 25, 2),\n",
    "                'model__min_samples_leaf': [2,3,4,5,6,7,8,9,10],\n",
    "                'model__criterion': ['gini', 'entropy'],\n",
    "                }"
   ]
  },
  {
   "cell_type": "code",
   "execution_count": 60,
   "metadata": {},
   "outputs": [],
   "source": [
    "dtree_gridsearch = GridSearchCV(estimator = dtree_pipe, param_grid= dtree_pipe_grid, scoring= 'accuracy')"
   ]
  },
  {
   "cell_type": "code",
   "execution_count": 61,
   "metadata": {},
   "outputs": [
    {
     "data": {
      "text/plain": [
       "GridSearchCV(estimator=Pipeline(steps=[('preprocessing',\n",
       "                                        ColumnTransformer(transformers=[('ordinal_pipe',\n",
       "                                                                         Pipeline(steps=[('ordimputer',\n",
       "                                                                                          SimpleImputer(strategy='most_frequent')),\n",
       "                                                                                         ('ordnorm',\n",
       "                                                                                          StandardScaler())]),\n",
       "                                                                         ['famrel',\n",
       "                                                                          'freetime',\n",
       "                                                                          'goout',\n",
       "                                                                          'Dalc',\n",
       "                                                                          'Walc',\n",
       "                                                                          'health',\n",
       "                                                                          'Medu',\n",
       "                                                                          'Fedu',\n",
       "                                                                          'studytime',\n",
       "                                                                          'traveltime']),\n",
       "                                                                        ('nominal_pipe',\n",
       "                                                                         Pipeline(steps=[('onehotimputer',\n",
       "                                                                                          Si...\n",
       "                                                                                          SimpleImputer()),\n",
       "                                                                                         ('numnorm',\n",
       "                                                                                          StandardScaler())]),\n",
       "                                                                         ['age',\n",
       "                                                                          'absences',\n",
       "                                                                          'failures'])])),\n",
       "                                       ('model', DecisionTreeClassifier())]),\n",
       "             param_grid={'model__criterion': ['gini', 'entropy'],\n",
       "                         'model__max_depth': array([ 3,  5,  7,  9, 11, 13, 15, 17, 19, 21, 23]),\n",
       "                         'model__min_samples_leaf': [2, 3, 4, 5, 6, 7, 8, 9,\n",
       "                                                     10],\n",
       "                         'preprocessing__numeric_pipe__numimputer__strategy': ['mean',\n",
       "                                                                               'median']},\n",
       "             scoring='accuracy')"
      ]
     },
     "execution_count": 61,
     "metadata": {},
     "output_type": "execute_result"
    }
   ],
   "source": [
    "dtree_gridsearch.fit(X_train, y_train)"
   ]
  },
  {
   "cell_type": "code",
   "execution_count": 62,
   "metadata": {},
   "outputs": [
    {
     "data": {
      "text/plain": [
       "{'model__criterion': 'entropy',\n",
       " 'model__max_depth': 3,\n",
       " 'model__min_samples_leaf': 2,\n",
       " 'preprocessing__numeric_pipe__numimputer__strategy': 'mean'}"
      ]
     },
     "execution_count": 62,
     "metadata": {},
     "output_type": "execute_result"
    }
   ],
   "source": [
    "dtree_gridsearch.best_params_"
   ]
  },
  {
   "cell_type": "code",
   "execution_count": 90,
   "metadata": {},
   "outputs": [
    {
     "name": "stderr",
     "output_type": "stream",
     "text": [
      "/Users/markhurtado/opt/anaconda3/envs/learn-env/lib/python3.8/site-packages/sklearn/utils/deprecation.py:87: FutureWarning: Function plot_confusion_matrix is deprecated; Function `plot_confusion_matrix` is deprecated in 1.0 and will be removed in 1.2. Use one of the class methods: ConfusionMatrixDisplay.from_predictions or ConfusionMatrixDisplay.from_estimator.\n",
      "  warnings.warn(msg, category=FutureWarning)\n"
     ]
    },
    {
     "data": {
      "text/plain": [
       "<sklearn.metrics._plot.confusion_matrix.ConfusionMatrixDisplay at 0x7fada0e638e0>"
      ]
     },
     "execution_count": 90,
     "metadata": {},
     "output_type": "execute_result"
    },
    {
     "data": {
      "image/png": "[encoded data removed]",
      "text/plain": [
       "<Figure size 432x288 with 2 Axes>"
      ]
     },
     "metadata": {
      "needs_background": "light"
     },
     "output_type": "display_data"
    }
   ],
   "source": [
    "best_dtree = dtree_gridsearch.best_estimator_\n",
    "y_preds_tree = best_dtree.predict(X_test)\n",
    "plot_confusion_matrix(best_dtree, X_test, y_test)"
   ]
  },
  {
   "cell_type": "code",
   "execution_count": 92,
   "metadata": {},
   "outputs": [
    {
     "name": "stdout",
     "output_type": "stream",
     "text": [
      "              precision    recall  f1-score   support\n",
      "\n",
      "           0       0.38      0.15      0.21        20\n",
      "           1       0.65      0.94      0.77        84\n",
      "           2       0.00      0.00      0.00        26\n",
      "\n",
      "    accuracy                           0.63       130\n",
      "   macro avg       0.34      0.36      0.33       130\n",
      "weighted avg       0.48      0.63      0.53       130\n",
      "\n"
     ]
    },
    {
     "name": "stderr",
     "output_type": "stream",
     "text": [
      "/Users/markhurtado/opt/anaconda3/envs/learn-env/lib/python3.8/site-packages/sklearn/metrics/_classification.py:1318: UndefinedMetricWarning: Precision and F-score are ill-defined and being set to 0.0 in labels with no predicted samples. Use `zero_division` parameter to control this behavior.\n",
      "  _warn_prf(average, modifier, msg_start, len(result))\n",
      "/Users/markhurtado/opt/anaconda3/envs/learn-env/lib/python3.8/site-packages/sklearn/metrics/_classification.py:1318: UndefinedMetricWarning: Precision and F-score are ill-defined and being set to 0.0 in labels with no predicted samples. Use `zero_division` parameter to control this behavior.\n",
      "  _warn_prf(average, modifier, msg_start, len(result))\n",
      "/Users/markhurtado/opt/anaconda3/envs/learn-env/lib/python3.8/site-packages/sklearn/metrics/_classification.py:1318: UndefinedMetricWarning: Precision and F-score are ill-defined and being set to 0.0 in labels with no predicted samples. Use `zero_division` parameter to control this behavior.\n",
      "  _warn_prf(average, modifier, msg_start, len(result))\n"
     ]
    }
   ],
   "source": [
    "print(classification_report(y_test, y_preds_tree))"
   ]
  },
  {
   "cell_type": "code",
   "execution_count": 93,
   "metadata": {},
   "outputs": [],
   "source": [
    "randomforest_pipe = Pipeline([\n",
    "    ('preprocessing', ct),\n",
    "    ('model', RandomForestClassifier())\n",
    "])"
   ]
  },
  {
   "cell_type": "code",
   "execution_count": 94,
   "metadata": {},
   "outputs": [
    {
     "data": {
      "text/plain": [
       "Pipeline(steps=[('preprocessing',\n",
       "                 ColumnTransformer(transformers=[('ordinal_pipe',\n",
       "                                                  Pipeline(steps=[('ordimputer',\n",
       "                                                                   SimpleImputer(strategy='most_frequent')),\n",
       "                                                                  ('ordnorm',\n",
       "                                                                   StandardScaler())]),\n",
       "                                                  ['famrel', 'freetime',\n",
       "                                                   'goout', 'Dalc', 'Walc',\n",
       "                                                   'health', 'Medu', 'Fedu',\n",
       "                                                   'studytime', 'traveltime']),\n",
       "                                                 ('nominal_pipe',\n",
       "                                                  Pipeline(steps=[('onehotimputer',\n",
       "                                                                   SimpleImputer(strategy='m...\n",
       "                                                                                 sparse=False)),\n",
       "                                                                  ('onehotnorm',\n",
       "                                                                   MaxAbsScaler())]),\n",
       "                                                  ['school', 'sex', 'address',\n",
       "                                                   'Pstatus', 'reason',\n",
       "                                                   'guardian', 'schoolsup',\n",
       "                                                   'famsup', 'paid',\n",
       "                                                   'activities', 'nursery',\n",
       "                                                   'higher', 'internet',\n",
       "                                                   'romantic']),\n",
       "                                                 ('numeric_pipe',\n",
       "                                                  Pipeline(steps=[('numimputer',\n",
       "                                                                   SimpleImputer()),\n",
       "                                                                  ('numnorm',\n",
       "                                                                   StandardScaler())]),\n",
       "                                                  ['age', 'absences',\n",
       "                                                   'failures'])])),\n",
       "                ('model', RandomForestClassifier())])"
      ]
     },
     "execution_count": 94,
     "metadata": {},
     "output_type": "execute_result"
    }
   ],
   "source": [
    "randomforest_pipe.fit(X_train, y_train)"
   ]
  },
  {
   "cell_type": "code",
   "execution_count": 98,
   "metadata": {},
   "outputs": [
    {
     "name": "stderr",
     "output_type": "stream",
     "text": [
      "/Users/markhurtado/opt/anaconda3/envs/learn-env/lib/python3.8/site-packages/sklearn/utils/deprecation.py:87: FutureWarning: Function plot_confusion_matrix is deprecated; Function `plot_confusion_matrix` is deprecated in 1.0 and will be removed in 1.2. Use one of the class methods: ConfusionMatrixDisplay.from_predictions or ConfusionMatrixDisplay.from_estimator.\n",
      "  warnings.warn(msg, category=FutureWarning)\n"
     ]
    },
    {
     "data": {
      "text/plain": [
       "<sklearn.metrics._plot.confusion_matrix.ConfusionMatrixDisplay at 0x7fadc48fb7c0>"
      ]
     },
     "execution_count": 98,
     "metadata": {},
     "output_type": "execute_result"
    },
    {
     "data": {
      "image/png": "[encoded data removed]",
      "text/plain": [
       "<Figure size 432x288 with 2 Axes>"
      ]
     },
     "metadata": {
      "needs_background": "light"
     },
     "output_type": "display_data"
    }
   ],
   "source": [
    "y_pred_randomforest = randomforest_pipe.predict(X_test)\n",
    "plot_confusion_matrix(randomforest_pipe, X_test, y_test)"
   ]
  },
  {
   "cell_type": "code",
   "execution_count": 99,
   "metadata": {},
   "outputs": [
    {
     "name": "stdout",
     "output_type": "stream",
     "text": [
      "              precision    recall  f1-score   support\n",
      "\n",
      "           0       0.57      0.20      0.30        20\n",
      "           1       0.67      0.93      0.78        84\n",
      "           2       0.57      0.15      0.24        26\n",
      "\n",
      "    accuracy                           0.66       130\n",
      "   macro avg       0.61      0.43      0.44       130\n",
      "weighted avg       0.64      0.66      0.60       130\n",
      "\n"
     ]
    }
   ],
   "source": [
    "print(classification_report(y_test, y_pred_randomforest))"
   ]
  },
  {
   "cell_type": "code",
   "execution_count": 100,
   "metadata": {},
   "outputs": [],
   "source": [
    "dforest_pipe_grid = {'preprocessing__numeric_pipe__numimputer__strategy': ['mean', 'median'], \n",
    "                'model__n_estimators': np.arange(300, 1000, 100),\n",
    "                'model__max_depth': np.arange(3, 25, 4),\n",
    "                'model__criterion': ['gini', 'entropy'],\n",
    "                }"
   ]
  },
  {
   "cell_type": "code",
   "execution_count": 101,
   "metadata": {},
   "outputs": [],
   "source": [
    "randomforest_cv = GridSearchCV(estimator = randomforest_pipe, param_grid = dforest_pipe_grid, cv = 5)"
   ]
  },
  {
   "cell_type": "code",
   "execution_count": 102,
   "metadata": {},
   "outputs": [
    {
     "data": {
      "text/plain": [
       "GridSearchCV(cv=5,\n",
       "             estimator=Pipeline(steps=[('preprocessing',\n",
       "                                        ColumnTransformer(transformers=[('ordinal_pipe',\n",
       "                                                                         Pipeline(steps=[('ordimputer',\n",
       "                                                                                          SimpleImputer(strategy='most_frequent')),\n",
       "                                                                                         ('ordnorm',\n",
       "                                                                                          StandardScaler())]),\n",
       "                                                                         ['famrel',\n",
       "                                                                          'freetime',\n",
       "                                                                          'goout',\n",
       "                                                                          'Dalc',\n",
       "                                                                          'Walc',\n",
       "                                                                          'health',\n",
       "                                                                          'Medu',\n",
       "                                                                          'Fedu',\n",
       "                                                                          'studytime',\n",
       "                                                                          'traveltime']),\n",
       "                                                                        ('nominal_pipe',\n",
       "                                                                         Pipeline(steps=[('onehotimpute...\n",
       "                                                                         Pipeline(steps=[('numimputer',\n",
       "                                                                                          SimpleImputer()),\n",
       "                                                                                         ('numnorm',\n",
       "                                                                                          StandardScaler())]),\n",
       "                                                                         ['age',\n",
       "                                                                          'absences',\n",
       "                                                                          'failures'])])),\n",
       "                                       ('model', RandomForestClassifier())]),\n",
       "             param_grid={'model__criterion': ['gini', 'entropy'],\n",
       "                         'model__max_depth': array([ 3,  7, 11, 15, 19, 23]),\n",
       "                         'model__n_estimators': array([300, 400, 500, 600, 700, 800, 900]),\n",
       "                         'preprocessing__numeric_pipe__numimputer__strategy': ['mean',\n",
       "                                                                               'median']})"
      ]
     },
     "execution_count": 102,
     "metadata": {},
     "output_type": "execute_result"
    }
   ],
   "source": [
    "randomforest_cv.fit(X_train, y_train)"
   ]
  },
  {
   "cell_type": "code",
   "execution_count": 103,
   "metadata": {},
   "outputs": [
    {
     "name": "stderr",
     "output_type": "stream",
     "text": [
      "/Users/markhurtado/opt/anaconda3/envs/learn-env/lib/python3.8/site-packages/sklearn/utils/deprecation.py:87: FutureWarning: Function plot_confusion_matrix is deprecated; Function `plot_confusion_matrix` is deprecated in 1.0 and will be removed in 1.2. Use one of the class methods: ConfusionMatrixDisplay.from_predictions or ConfusionMatrixDisplay.from_estimator.\n",
      "  warnings.warn(msg, category=FutureWarning)\n"
     ]
    },
    {
     "data": {
      "text/plain": [
       "<sklearn.metrics._plot.confusion_matrix.ConfusionMatrixDisplay at 0x7fadb1c25760>"
      ]
     },
     "execution_count": 103,
     "metadata": {},
     "output_type": "execute_result"
    },
    {
     "data": {
      "image/png": "[encoded data removed]",
      "text/plain": [
       "<Figure size 432x288 with 2 Axes>"
      ]
     },
     "metadata": {
      "needs_background": "light"
     },
     "output_type": "display_data"
    }
   ],
   "source": [
    "plot_confusion_matrix(randomforest_cv.best_estimator_, X_train, y_train)"
   ]
  },
  {
   "cell_type": "code",
   "execution_count": 104,
   "metadata": {},
   "outputs": [
    {
     "name": "stderr",
     "output_type": "stream",
     "text": [
      "/Users/markhurtado/opt/anaconda3/envs/learn-env/lib/python3.8/site-packages/sklearn/utils/deprecation.py:87: FutureWarning: Function plot_confusion_matrix is deprecated; Function `plot_confusion_matrix` is deprecated in 1.0 and will be removed in 1.2. Use one of the class methods: ConfusionMatrixDisplay.from_predictions or ConfusionMatrixDisplay.from_estimator.\n",
      "  warnings.warn(msg, category=FutureWarning)\n"
     ]
    },
    {
     "data": {
      "text/plain": [
       "<sklearn.metrics._plot.confusion_matrix.ConfusionMatrixDisplay at 0x7fadb1686040>"
      ]
     },
     "execution_count": 104,
     "metadata": {},
     "output_type": "execute_result"
    },
    {
     "data": {
      "image/png": "[encoded data removed]",
      "text/plain": [
       "<Figure size 432x288 with 2 Axes>"
      ]
     },
     "metadata": {
      "needs_background": "light"
     },
     "output_type": "display_data"
    }
   ],
   "source": [
    "plot_confusion_matrix(randomforest_cv.best_estimator_, X_test, y_test)"
   ]
  },
  {
   "cell_type": "code",
   "execution_count": null,
   "metadata": {},
   "outputs": [],
   "source": []
  },
  {
   "cell_type": "code",
   "execution_count": null,
   "metadata": {},
   "outputs": [],
   "source": []
  }
 ],
 "metadata": {
  "interpreter": {
   "hash": "2727b2a22fa54fc80c442d9882c796b170b7ece9140881dba5a5b9a9bde47675"
  },
  "kernelspec": {
   "display_name": "Python 3.8.12 ('learn-env')",
   "language": "python",
   "name": "python3"
  },
  "language_info": {
   "codemirror_mode": {
    "name": "ipython",
    "version": 3
   },
   "file_extension": ".py",
   "mimetype": "text/x-python",
   "name": "python",
   "nbconvert_exporter": "python",
   "pygments_lexer": "ipython3",
   "version": "3.8.5"
  },
  "orig_nbformat": 4
 },
 "nbformat": 4,
 "nbformat_minor": 2
}
